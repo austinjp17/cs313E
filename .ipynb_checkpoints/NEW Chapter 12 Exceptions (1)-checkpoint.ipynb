{
 "cells": [
  {
   "cell_type": "code",
   "execution_count": 2,
   "id": "e10073ce",
   "metadata": {},
   "outputs": [
    {
     "name": "stdout",
     "output_type": "stream",
     "text": [
      "Enter weight (in pounds): Ten\n",
      "Invalid Data. Cannot Calculate\n"
     ]
    },
    {
     "ename": "NameError",
     "evalue": "name 'weight' is not defined",
     "output_type": "error",
     "traceback": [
      "\u001b[1;31m---------------------------------------------------------------------------\u001b[0m",
      "\u001b[1;31mNameError\u001b[0m                                 Traceback (most recent call last)",
      "Cell \u001b[1;32mIn[2], line 14\u001b[0m\n\u001b[0;32m     12\u001b[0m \u001b[38;5;28;01mexcept\u001b[39;00m \u001b[38;5;167;01mValueError\u001b[39;00m:\n\u001b[0;32m     13\u001b[0m     \u001b[38;5;28mprint\u001b[39m(\u001b[38;5;124m\"\u001b[39m\u001b[38;5;124mInvalid Data. Cannot Calculate\u001b[39m\u001b[38;5;124m\"\u001b[39m)\n\u001b[1;32m---> 14\u001b[0m bmi \u001b[38;5;241m=\u001b[39m (\u001b[38;5;28mfloat\u001b[39m(\u001b[43mweight\u001b[49m) \u001b[38;5;241m/\u001b[39m \u001b[38;5;28mfloat\u001b[39m(height \u001b[38;5;241m*\u001b[39m height)) \u001b[38;5;241m*\u001b[39m \u001b[38;5;241m703\u001b[39m\n\u001b[0;32m     15\u001b[0m \u001b[38;5;28mprint\u001b[39m(\u001b[38;5;124mf\u001b[39m\u001b[38;5;124m'\u001b[39m\u001b[38;5;124mBMI: \u001b[39m\u001b[38;5;132;01m{\u001b[39;00mbmi\u001b[38;5;132;01m}\u001b[39;00m\u001b[38;5;124m'\u001b[39m)\n\u001b[0;32m     16\u001b[0m \u001b[38;5;28mprint\u001b[39m(\u001b[38;5;124m'\u001b[39m\u001b[38;5;124m(CDC: 18.6-24.9 normal)\u001b[39m\u001b[38;5;130;01m\\n\u001b[39;00m\u001b[38;5;124m'\u001b[39m)\n",
      "\u001b[1;31mNameError\u001b[0m: name 'weight' is not defined"
     ]
    }
   ],
   "source": [
    "# Calulate Body Mass Index (measure of body fat based on height and weight)\n",
    "# 1. How could a user break this code? \n",
    "# 2. Add try and except.\n",
    "# 3. Notice it doesn't ask for height if weight causes an exception.\n",
    "# 4. When error happens, sequence continues after try block.\n",
    "# 5. Multiple exceptions: ValueError, ZeroDivisionError\n",
    "user_input = ''\n",
    "while user_input != 'q':\n",
    "    try:\n",
    "        weight = int(input(\"Enter weight (in pounds): \"))\n",
    "        height = int(input(\"Enter height (in inches): \"))\n",
    "        bmi = (float(weight) / float(height * height)) * 703\n",
    "        print(f'BMI: {bmi}')\n",
    "        print('(CDC: 18.6-24.9 normal)\\n')\n",
    "    except ValueError:\n",
    "        print(\"Invalid Data. Cannot Calculate\")\n",
    "    \n",
    "    # Source www.cdc.gov\n",
    "\n",
    "    print (\"Cannot calculate BMI.\")\n",
    "\n",
    "    user_input = input(\"Enter any key ('q' to quit): \")"
   ]
  },
  {
   "cell_type": "code",
   "execution_count": null,
   "id": "5317363d",
   "metadata": {},
   "outputs": [],
   "source": [
    "See Exception Types"
   ]
  },
  {
   "cell_type": "code",
   "execution_count": 6,
   "id": "fa938e35",
   "metadata": {},
   "outputs": [
    {
     "name": "stdout",
     "output_type": "stream",
     "text": [
      "Enter weight (in pounds): ten\n"
     ]
    },
    {
     "ename": "ValueError",
     "evalue": "invalid literal for int() with base 10: 'ten'",
     "output_type": "error",
     "traceback": [
      "\u001b[0;31m---------------------------------------------------------------------------\u001b[0m",
      "\u001b[0;31mValueError\u001b[0m                                Traceback (most recent call last)",
      "Cell \u001b[0;32mIn[6], line 9\u001b[0m\n\u001b[1;32m      7\u001b[0m user_input \u001b[38;5;241m=\u001b[39m \u001b[38;5;124m'\u001b[39m\u001b[38;5;124m'\u001b[39m\n\u001b[1;32m      8\u001b[0m \u001b[38;5;28;01mwhile\u001b[39;00m user_input \u001b[38;5;241m!=\u001b[39m \u001b[38;5;124m'\u001b[39m\u001b[38;5;124mq\u001b[39m\u001b[38;5;124m'\u001b[39m:\n\u001b[0;32m----> 9\u001b[0m     weight \u001b[38;5;241m=\u001b[39m \u001b[38;5;28;43mint\u001b[39;49m\u001b[43m(\u001b[49m\u001b[38;5;28;43minput\u001b[39;49m\u001b[43m(\u001b[49m\u001b[38;5;124;43m'\u001b[39;49m\u001b[38;5;124;43mEnter weight (in pounds): \u001b[39;49m\u001b[38;5;124;43m'\u001b[39;49m\u001b[43m)\u001b[49m\u001b[43m)\u001b[49m\n\u001b[1;32m     10\u001b[0m     \u001b[38;5;28;01mif\u001b[39;00m weight \u001b[38;5;241m<\u001b[39m \u001b[38;5;241m0\u001b[39m:\n\u001b[1;32m     11\u001b[0m         \u001b[38;5;28mprint\u001b[39m(\u001b[38;5;124m'\u001b[39m\u001b[38;5;124mInvalid weight.\u001b[39m\u001b[38;5;124m'\u001b[39m)\n",
      "\u001b[0;31mValueError\u001b[0m: invalid literal for int() with base 10: 'ten'"
     ]
    }
   ],
   "source": [
    "# Calculate BMI without exceptions\n",
    "# Extra if elses clutter the code\n",
    "# 1. Add code to raise an exception and the exception\n",
    "#    To save some typing...\n",
    "#    except ValueError as excpt:\n",
    "#        print(excpt)\n",
    "#        print('Could not calculate health info.\\n')\n",
    "user_input = ''\n",
    "while user_input != 'q':\n",
    "    weight = int(input('Enter weight (in pounds): '))\n",
    "    if weight < 0:\n",
    "        print('Invalid weight.')\n",
    "    else:\n",
    "        height = int(input('Enter height (in inches): '))\n",
    "        if height <= 0:\n",
    "            print('Invalid height')\n",
    "        \n",
    "    if (weight < 0) or (height <= 0):\n",
    "        print('Cannot compute info.')\n",
    "    else:\n",
    "        bmi = (float(weight) / float(height * height)) * 703\n",
    "        print(f'BMI: {bmi}')\n",
    "        print('(CDC: 18.6-24.9 normal)\\n')  # Source www.cdc.gov\n",
    "        \n",
    "    user_input = input(\"Enter any key ('q' to quit): \")"
   ]
  },
  {
   "cell_type": "code",
   "execution_count": 8,
   "id": "f1caa7ad",
   "metadata": {},
   "outputs": [
    {
     "name": "stdout",
     "output_type": "stream",
     "text": [
      "Enter weight (in pounds): 0\n",
      "Enter height (in inches): 0\n",
      "Invalid height.\n",
      "Could not calculate health info.\n",
      "\n"
     ]
    },
    {
     "ename": "KeyboardInterrupt",
     "evalue": "Interrupted by user",
     "output_type": "error",
     "traceback": [
      "\u001b[0;31m---------------------------------------------------------------------------\u001b[0m",
      "\u001b[0;31mKeyboardInterrupt\u001b[0m                         Traceback (most recent call last)",
      "Cell \u001b[0;32mIn[8], line 30\u001b[0m\n\u001b[1;32m     27\u001b[0m     \u001b[38;5;28mprint\u001b[39m(excpt)\n\u001b[1;32m     28\u001b[0m     \u001b[38;5;28mprint\u001b[39m(\u001b[38;5;124m'\u001b[39m\u001b[38;5;124mCould not calculate health info.\u001b[39m\u001b[38;5;130;01m\\n\u001b[39;00m\u001b[38;5;124m'\u001b[39m)\n\u001b[0;32m---> 30\u001b[0m user_input \u001b[38;5;241m=\u001b[39m \u001b[38;5;28;43minput\u001b[39;49m\u001b[43m(\u001b[49m\u001b[38;5;124;43m\"\u001b[39;49m\u001b[38;5;124;43mEnter any key (\u001b[39;49m\u001b[38;5;124;43m'\u001b[39;49m\u001b[38;5;124;43mq\u001b[39;49m\u001b[38;5;124;43m'\u001b[39;49m\u001b[38;5;124;43m to quit): \u001b[39;49m\u001b[38;5;124;43m\"\u001b[39;49m\u001b[43m)\u001b[49m\n",
      "File \u001b[0;32m~/opt/anaconda3/lib/python3.9/site-packages/ipykernel/kernelbase.py:1175\u001b[0m, in \u001b[0;36mKernel.raw_input\u001b[0;34m(self, prompt)\u001b[0m\n\u001b[1;32m   1171\u001b[0m \u001b[38;5;28;01mif\u001b[39;00m \u001b[38;5;129;01mnot\u001b[39;00m \u001b[38;5;28mself\u001b[39m\u001b[38;5;241m.\u001b[39m_allow_stdin:\n\u001b[1;32m   1172\u001b[0m     \u001b[38;5;28;01mraise\u001b[39;00m StdinNotImplementedError(\n\u001b[1;32m   1173\u001b[0m         \u001b[38;5;124m\"\u001b[39m\u001b[38;5;124mraw_input was called, but this frontend does not support input requests.\u001b[39m\u001b[38;5;124m\"\u001b[39m\n\u001b[1;32m   1174\u001b[0m     )\n\u001b[0;32m-> 1175\u001b[0m \u001b[38;5;28;01mreturn\u001b[39;00m \u001b[38;5;28;43mself\u001b[39;49m\u001b[38;5;241;43m.\u001b[39;49m\u001b[43m_input_request\u001b[49m\u001b[43m(\u001b[49m\n\u001b[1;32m   1176\u001b[0m \u001b[43m    \u001b[49m\u001b[38;5;28;43mstr\u001b[39;49m\u001b[43m(\u001b[49m\u001b[43mprompt\u001b[49m\u001b[43m)\u001b[49m\u001b[43m,\u001b[49m\n\u001b[1;32m   1177\u001b[0m \u001b[43m    \u001b[49m\u001b[38;5;28;43mself\u001b[39;49m\u001b[38;5;241;43m.\u001b[39;49m\u001b[43m_parent_ident\u001b[49m\u001b[43m[\u001b[49m\u001b[38;5;124;43m\"\u001b[39;49m\u001b[38;5;124;43mshell\u001b[39;49m\u001b[38;5;124;43m\"\u001b[39;49m\u001b[43m]\u001b[49m\u001b[43m,\u001b[49m\n\u001b[1;32m   1178\u001b[0m \u001b[43m    \u001b[49m\u001b[38;5;28;43mself\u001b[39;49m\u001b[38;5;241;43m.\u001b[39;49m\u001b[43mget_parent\u001b[49m\u001b[43m(\u001b[49m\u001b[38;5;124;43m\"\u001b[39;49m\u001b[38;5;124;43mshell\u001b[39;49m\u001b[38;5;124;43m\"\u001b[39;49m\u001b[43m)\u001b[49m\u001b[43m,\u001b[49m\n\u001b[1;32m   1179\u001b[0m \u001b[43m    \u001b[49m\u001b[43mpassword\u001b[49m\u001b[38;5;241;43m=\u001b[39;49m\u001b[38;5;28;43;01mFalse\u001b[39;49;00m\u001b[43m,\u001b[49m\n\u001b[1;32m   1180\u001b[0m \u001b[43m\u001b[49m\u001b[43m)\u001b[49m\n",
      "File \u001b[0;32m~/opt/anaconda3/lib/python3.9/site-packages/ipykernel/kernelbase.py:1217\u001b[0m, in \u001b[0;36mKernel._input_request\u001b[0;34m(self, prompt, ident, parent, password)\u001b[0m\n\u001b[1;32m   1214\u001b[0m             \u001b[38;5;28;01mbreak\u001b[39;00m\n\u001b[1;32m   1215\u001b[0m \u001b[38;5;28;01mexcept\u001b[39;00m \u001b[38;5;167;01mKeyboardInterrupt\u001b[39;00m:\n\u001b[1;32m   1216\u001b[0m     \u001b[38;5;66;03m# re-raise KeyboardInterrupt, to truncate traceback\u001b[39;00m\n\u001b[0;32m-> 1217\u001b[0m     \u001b[38;5;28;01mraise\u001b[39;00m \u001b[38;5;167;01mKeyboardInterrupt\u001b[39;00m(\u001b[38;5;124m\"\u001b[39m\u001b[38;5;124mInterrupted by user\u001b[39m\u001b[38;5;124m\"\u001b[39m) \u001b[38;5;28;01mfrom\u001b[39;00m \u001b[38;5;28mNone\u001b[39m\n\u001b[1;32m   1218\u001b[0m \u001b[38;5;28;01mexcept\u001b[39;00m \u001b[38;5;167;01mException\u001b[39;00m:\n\u001b[1;32m   1219\u001b[0m     \u001b[38;5;28mself\u001b[39m\u001b[38;5;241m.\u001b[39mlog\u001b[38;5;241m.\u001b[39mwarning(\u001b[38;5;124m\"\u001b[39m\u001b[38;5;124mInvalid Message:\u001b[39m\u001b[38;5;124m\"\u001b[39m, exc_info\u001b[38;5;241m=\u001b[39m\u001b[38;5;28;01mTrue\u001b[39;00m)\n",
      "\u001b[0;31mKeyboardInterrupt\u001b[0m: Interrupted by user"
     ]
    }
   ],
   "source": [
    "# Using exceptions in functions\n",
    "# 1. exception is sent back to the calling function\n",
    "def get_weight():\n",
    "    weight = int(input('Enter weight (in pounds): '))\n",
    "    if weight < 0:\n",
    "        raise ValueError('Invalid weight.')\n",
    "    return weight\n",
    "\n",
    "def get_height():\n",
    "    height = int(input('Enter height (in inches): '))\n",
    "    if height <= 0:\n",
    "        raise ValueError('Invalid height.')\n",
    "    return height\n",
    "\n",
    "user_input = ''\n",
    "while user_input != 'q':\n",
    "    try:\n",
    "        weight = get_weight()\n",
    "        height = get_height()\n",
    "\n",
    "        bmi = (float(weight) / float(height * height)) * 703\n",
    "        print(f'BMI: {bmi}')\n",
    "        print('(CDC: 18.6-24.9 normal)\\n')\n",
    "        # Source www.cdc.gov\n",
    "\n",
    "    except ValueError as excpt:\n",
    "        print(excpt)\n",
    "        print('Could not calculate health info.\\n')\n",
    "\n",
    "    user_input = input(\"Enter any key ('q' to quit): \")"
   ]
  },
  {
   "cell_type": "code",
   "execution_count": 9,
   "id": "5349b71a",
   "metadata": {},
   "outputs": [
    {
     "name": "stdout",
     "output_type": "stream",
     "text": [
      "Enter file name: sample.txt\n",
      "Opening sample.txt\n",
      "Could not find sample.txt\n",
      "Closing sample.txt\n",
      "Numbers found: \n"
     ]
    }
   ],
   "source": [
    "# Using Finally\n",
    "nums = []\n",
    "rd_nums = -1\n",
    "my_file = input('Enter file name: ')\n",
    "\n",
    "try:\n",
    "    print('Opening', my_file)\n",
    "    rd_nums = open(my_file, 'r')  # Might cause IOError\n",
    "\n",
    "    for line in rd_nums:\n",
    "        nums.append(int(line))  # Might cause ValueError\n",
    "except IOError:\n",
    "    print(f'Could not find {my_file}')\n",
    "except ValueError:\n",
    "    print(f'Could not read number from {my_file}')\n",
    "finally:\n",
    "    print(f'Closing {my_file}')\n",
    "    if rd_nums != -1:\n",
    "        rd_nums.close()\n",
    "    print(f'Numbers found: {\" \".join([str(n) for n in nums])}')"
   ]
  },
  {
   "cell_type": "code",
   "execution_count": null,
   "id": "892cd468",
   "metadata": {},
   "outputs": [],
   "source": []
  }
 ],
 "metadata": {
  "kernelspec": {
   "display_name": "Python 3 (ipykernel)",
   "language": "python",
   "name": "python3"
  },
  "language_info": {
   "codemirror_mode": {
    "name": "ipython",
    "version": 3
   },
   "file_extension": ".py",
   "mimetype": "text/x-python",
   "name": "python",
   "nbconvert_exporter": "python",
   "pygments_lexer": "ipython3",
   "version": "3.10.9"
  }
 },
 "nbformat": 4,
 "nbformat_minor": 5
}
